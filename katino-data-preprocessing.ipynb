{
 "cells": [
  {
   "cell_type": "markdown",
   "metadata": {},
   "source": [
    "# import tool"
   ]
  },
  {
   "cell_type": "code",
   "execution_count": 1,
   "metadata": {},
   "outputs": [],
   "source": [
    "import pandas as pd\n",
    "import numpy as np\n",
    "import re\n",
    "from itertools import compress\n",
    "from tqdm import tqdm\n",
    "import sys"
   ]
  },
  {
   "cell_type": "code",
   "execution_count": 2,
   "metadata": {},
   "outputs": [],
   "source": [
    "def delete_bracket_back(str_):\n",
    "    try:\n",
    "        m = re.match(r'(.*)(\\(.*\\)$)', str_)\n",
    "        return(m.group(1))\n",
    "    except:\n",
    "        return(str_)"
   ]
  },
  {
   "cell_type": "code",
   "execution_count": 3,
   "metadata": {},
   "outputs": [],
   "source": [
    "def delete_bracket_front(str_):\n",
    "    try:\n",
    "        m = re.match(r'^(\\[.*\\])(.*)', str_)\n",
    "        return(m.group(2))\n",
    "    except:\n",
    "        return(str_)"
   ]
  },
  {
   "cell_type": "code",
   "execution_count": 4,
   "metadata": {},
   "outputs": [],
   "source": [
    "def delete_bracket_front2(str_):\n",
    "    try:\n",
    "        m = re.match(r'^(\\(.*\\))(.*)', str_)\n",
    "        return(m.group(2))\n",
    "    except:\n",
    "        return(str_)"
   ]
  },
  {
   "cell_type": "code",
   "execution_count": 5,
   "metadata": {},
   "outputs": [],
   "source": [
    "def delete_bracket_front_bold(str_):\n",
    "    try:\n",
    "        m = re.match(r'^(\\【.*\\】)(.*)', str_)\n",
    "        return(m.group(2))\n",
    "    except:\n",
    "        return(str_)"
   ]
  },
  {
   "cell_type": "code",
   "execution_count": 6,
   "metadata": {},
   "outputs": [
    {
     "name": "stdout",
     "output_type": "stream",
     "text": [
      "read katino_data.csv in...\n"
     ]
    },
    {
     "name": "stderr",
     "output_type": "stream",
     "text": [
      "\r",
      "  0%|                                                                                       | 0/761278 [00:00<?, ?it/s]"
     ]
    },
    {
     "name": "stdout",
     "output_type": "stream",
     "text": [
      "move 時事 政治...\n",
      "start to move bracket...\n"
     ]
    },
    {
     "name": "stderr",
     "output_type": "stream",
     "text": [
      "100%|██████████████████████████████████████████████████████████████████████| 761278/761278 [00:01<00:00, 484639.50it/s]\n",
      "100%|██████████████████████████████████████████████████████████████████████| 761278/761278 [00:01<00:00, 659889.56it/s]\n",
      "100%|██████████████████████████████████████████████████████████████████████| 761278/761278 [00:01<00:00, 623877.77it/s]\n",
      "100%|██████████████████████████████████████████████████████████████████████| 761278/761278 [00:01<00:00, 648951.47it/s]\n",
      " 23%|███████████████▊                                                     | 174696/761278 [00:00<00:00, 1733639.96it/s]"
     ]
    },
    {
     "name": "stdout",
     "output_type": "stream",
     "text": [
      "replace word 　\n"
     ]
    },
    {
     "name": "stderr",
     "output_type": "stream",
     "text": [
      "100%|█████████████████████████████████████████████████████████████████████| 761278/761278 [00:00<00:00, 1711348.90it/s]\n"
     ]
    },
    {
     "name": "stdout",
     "output_type": "stream",
     "text": [
      "delete title that len(title) < 10\n",
      "preprocessing successfully\n",
      "save as katino_data_adjust.npy\n"
     ]
    }
   ],
   "source": [
    "if __name__ == '__main__':\n",
    "    #MIN_LENGTH = 10\n",
    "    #FIALNAME = \"katino_data.csv\"\n",
    "    FIALNAME = sys.argv[1]\n",
    "    MIN_LENGTH = int(sys.argv[2])\n",
    "\n",
    "    print(\"read %s in...\" % FIALNAME)\n",
    "    df = pd.read_csv(FIALNAME)\n",
    "\n",
    "    print(\"move 時事 政治...\")# 去除時事 政治 (index 在 legal_index_kuru.csv )\n",
    "    df = df[df[\"board\"] != 3590]\n",
    "    df = df[df[\"board\"] != 190]\n",
    "    title = df.title.to_numpy()\n",
    "\n",
    "    print(\"start to move bracket...\")\n",
    "    title = [delete_bracket_back(i) for i in tqdm(title)]\n",
    "    title = [delete_bracket_front(i) for i in tqdm(title)]\n",
    "    title = [delete_bracket_front2(i) for i in tqdm(title)]\n",
    "    title_B = [delete_bracket_front_bold(i) for i in tqdm(title)]\n",
    "\n",
    "    print(\"replace word \\u3000\")#　replace word \\u3000\n",
    "    title_C = [str(i).replace(\"\\u3000\", \" \") for i in tqdm(title_B)]\n",
    "\n",
    "    print(\"delete title that len(title) < %d\" % MIN_LENGTH)\n",
    "    title_length = [len(str(i)) for i in title_C]\n",
    "    bool_want = np.array(title_length) > MIN_LENGTH\n",
    "    title_D = list(compress(title_C, bool_want))\n",
    "\n",
    "    # save\n",
    "    name = \"%s_adjust.npy\" % FIALNAME[:-4]\n",
    "\n",
    "    try:\n",
    "        np.save(name, title_D)\n",
    "        print(\"preprocessing successfully\")\n",
    "        print(\"save as %s\" % name)\n",
    "    except:\n",
    "        print(\"preprocessing failed\")"
   ]
  },
  {
   "cell_type": "code",
   "execution_count": null,
   "metadata": {},
   "outputs": [],
   "source": []
  },
  {
   "cell_type": "code",
   "execution_count": null,
   "metadata": {},
   "outputs": [],
   "source": []
  },
  {
   "cell_type": "code",
   "execution_count": null,
   "metadata": {},
   "outputs": [],
   "source": []
  },
  {
   "cell_type": "code",
   "execution_count": null,
   "metadata": {},
   "outputs": [],
   "source": []
  },
  {
   "cell_type": "code",
   "execution_count": null,
   "metadata": {},
   "outputs": [],
   "source": []
  }
 ],
 "metadata": {
  "kernelspec": {
   "display_name": "Python 3",
   "language": "python",
   "name": "python3"
  },
  "language_info": {
   "codemirror_mode": {
    "name": "ipython",
    "version": 3
   },
   "file_extension": ".py",
   "mimetype": "text/x-python",
   "name": "python",
   "nbconvert_exporter": "python",
   "pygments_lexer": "ipython3",
   "version": "3.6.4"
  }
 },
 "nbformat": 4,
 "nbformat_minor": 2
}
